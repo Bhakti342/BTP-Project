!pip install tensorflow opencv-python matplotlib


import tensorflow as tf
import os


data_dir = 'data'


import cv2
import imghdr
from matplotlib import pyplot as plt


image_exts = ['jpeg','jpg','bmp','png']


for image_class in os.listdir(data_dir):
    for image in os.listdir(os.path.join(data_dir, image_class)):
        image_path = os.path.join(data_dir, image_class, image)
        try:
            img = cv2.imread(image_path)
            tip = imghdr.what(image_path)
            if tip not in image_exts:
                print('Image not in ext list {}'.format(image_path))
                os.remove(image_path)
        except Exception as e:
            print('Issue with image {}'.format(image_path))


import numpy as np


data = tf.keras.utils.image_dataset_from_directory('data')


data_iterator = data.as_numpy_iterator()


batch = data_iterator.next()
#get another batch from the iterator


batch[0].shape
#image represented as numpy arrays


batch[1]
#class 0 = earthquakes
#class 1 = landslides
#class 2 = wildfire


fig, ax = plt.subplots(ncols=4, figsize=(20,20))
for idx, img in enumerate(batch[0][:4]):
    ax[idx].imshow(img.astype(int))
    ax[idx].title.set_text(batch[1][idx])


data = data.map(lambda x,y: (x/255, y))


scaled_iterator = data.as_numpy_iterator()


batch = scaled_iterator.next()


len(data)


train_size = int(len(data)*.7) #to train our deep learning model
val_size = int(len(data)*.2) #evaluate our data while we're training
test_size = int(len(data)*.1) 


# take defines how much data we are going take in that particular partition
train = data.take(train_size)
val = data.skip(train_size).take(val_size)
test = data.skip(train_size + val_size).take(test_size)


#to import some sequential apis
from tensorflow.keras.models import Sequential
from tensorflow.keras.layers import Conv2D, MaxPooling2D, Dense, Flatten


model = Sequential()


#1st line adding maxpooling layer and convolutional layer
model.add(Conv2D(16, (3,3), 1,activation='relu', input_shape=(256,256,3)))
model.add(MaxPooling2D())
model.add(Conv2D(32, (3,3), 1,activation='relu'))
model.add(MaxPooling2D())
model.add(Conv2D(16, (3,3), 1,activation='relu'))
model.add(MaxPooling2D())
model.add(Flatten())
model.add(Dense(256, activation='relu'))
model.add(Dense(3, activation='softmax'))


model.compile(optimizer='adam', loss=tf.losses.SparseCategoricalCrossentropy(), metrics=['accuracy'])



model.summary()


logdir = 'logs'


tensorboard_callback = tf.keras.callbacks.TensorBoard(log_dir=logdir)


hist = model.fit(train, epochs=20, validation_data=val, callbacks=[tensorboard_callback])


fig = plt.figure()
plt.plot(hist.history['loss'], color = 'grey', label = 'loss')
plt.plot(hist.history['val_loss'], color = 'pink', label = 'val_loss')
fig.suptitle('Loss', fontsize = 20)
plt.legend(loc = "upper left")
plt.show()


fig = plt.figure()
plt.plot(hist.history['accuracy'], color='grey', label='accuracy')
plt.plot(hist.history['val_accuracy'], color='pink', label='val_accuracy')
fig.suptitle('Accuracy', fontsize=20)
plt.legend(loc="upper left")
plt.show()


from tensorflow.keras.metrics import SparseCategoricalAccuracy


acc = tf.keras.metrics.SparseCategoricalAccuracy()


for batch in test.as_numpy_iterator(): 
    X, y = batch
    yhat = model.predict(X)
    acc.update_state(y, yhat)


print("Test Accuracy:", acc.result().numpy())


img = cv2.imread('wildfire_testcase.jpg')
plt.imshow(cv2.cvtColor(img, cv2.COLOR_BGR2RGB))
plt.show()


resize = tf.image.resize(img, (256,256))
plt.imshow(resize.numpy().astype(int))
plt.show()


yhat = model.predict(np.expand_dims(resize/255, 0))


yhat


predicted_class = np.argmax(yhat)


if predicted_class == 0: 
    print(f'Predicted class is Earthquake')
elif predicted_class == 1:
    print(f'Predicted class is Landslide')
else:
    print(f'Predicted class is Wildfire')


from tensorflow.keras.models import load_model


model.save('my_model.keras')


new_model = load_model('my_model.keras')


new_model.predict(np.expand_dims(resize/255, 0))



